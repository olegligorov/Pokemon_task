{
 "cells": [
  {
   "cell_type": "code",
   "execution_count": 1,
   "metadata": {},
   "outputs": [],
   "source": [
    "import requests\n",
    "import pandas as pd\n",
    "import apache_beam as beam"
   ]
  },
  {
   "cell_type": "code",
   "execution_count": 2,
   "metadata": {},
   "outputs": [],
   "source": [
    "def fetch_data(url):\n",
    "    try:\n",
    "        response = requests.get(url)\n",
    "        if response.status_code == 200:\n",
    "            return response.json()\n",
    "        else:\n",
    "            print(f'Error {response.status_code}')\n",
    "            return None\n",
    "    except requests.exceptions.RequestException as e:\n",
    "        print(f'Error {e}')\n",
    "        return None"
   ]
  },
  {
   "cell_type": "code",
   "execution_count": 3,
   "metadata": {},
   "outputs": [],
   "source": [
    "def fetch_first_50_pokemons(url):\n",
    "    fetched_data = fetch_data(url)\n",
    "    first_50_fetched_pokemons = fetched_data['pokemon'][:50]\n",
    "    first_50_pokemon_urls = [pokemon['pokemon']['url'] for pokemon in first_50_fetched_pokemons]\n",
    "    \n",
    "    first_50_pokemons = []\n",
    "\n",
    "    for pokemon_url in first_50_pokemon_urls:\n",
    "        pokemon_data = fetch_data(pokemon_url)\n",
    "        first_50_pokemons.append({\n",
    "            'id': pokemon_data['id'],\n",
    "            'name': pokemon_data['name'],\n",
    "            'height': pokemon_data['height'],\n",
    "            'weight': pokemon_data['weight']\n",
    "        })\n",
    "\n",
    "    return first_50_pokemons"
   ]
  },
  {
   "cell_type": "code",
   "execution_count": 4,
   "metadata": {},
   "outputs": [
    {
     "data": {
      "text/plain": [
       "[{'id': 6, 'name': 'charizard', 'height': 17, 'weight': 905},\n",
       " {'id': 12, 'name': 'butterfree', 'height': 11, 'weight': 320},\n",
       " {'id': 16, 'name': 'pidgey', 'height': 3, 'weight': 18},\n",
       " {'id': 17, 'name': 'pidgeotto', 'height': 11, 'weight': 300},\n",
       " {'id': 18, 'name': 'pidgeot', 'height': 15, 'weight': 395},\n",
       " {'id': 21, 'name': 'spearow', 'height': 3, 'weight': 20},\n",
       " {'id': 22, 'name': 'fearow', 'height': 12, 'weight': 380},\n",
       " {'id': 41, 'name': 'zubat', 'height': 8, 'weight': 75},\n",
       " {'id': 42, 'name': 'golbat', 'height': 16, 'weight': 550},\n",
       " {'id': 83, 'name': 'farfetchd', 'height': 8, 'weight': 150},\n",
       " {'id': 84, 'name': 'doduo', 'height': 14, 'weight': 392},\n",
       " {'id': 85, 'name': 'dodrio', 'height': 18, 'weight': 852},\n",
       " {'id': 123, 'name': 'scyther', 'height': 15, 'weight': 560},\n",
       " {'id': 130, 'name': 'gyarados', 'height': 65, 'weight': 2350},\n",
       " {'id': 142, 'name': 'aerodactyl', 'height': 18, 'weight': 590},\n",
       " {'id': 144, 'name': 'articuno', 'height': 17, 'weight': 554},\n",
       " {'id': 145, 'name': 'zapdos', 'height': 16, 'weight': 526},\n",
       " {'id': 146, 'name': 'moltres', 'height': 20, 'weight': 600},\n",
       " {'id': 149, 'name': 'dragonite', 'height': 22, 'weight': 2100},\n",
       " {'id': 163, 'name': 'hoothoot', 'height': 7, 'weight': 212},\n",
       " {'id': 164, 'name': 'noctowl', 'height': 16, 'weight': 408},\n",
       " {'id': 165, 'name': 'ledyba', 'height': 10, 'weight': 108},\n",
       " {'id': 166, 'name': 'ledian', 'height': 14, 'weight': 356},\n",
       " {'id': 169, 'name': 'crobat', 'height': 18, 'weight': 750},\n",
       " {'id': 176, 'name': 'togetic', 'height': 6, 'weight': 32},\n",
       " {'id': 177, 'name': 'natu', 'height': 2, 'weight': 20},\n",
       " {'id': 178, 'name': 'xatu', 'height': 15, 'weight': 150},\n",
       " {'id': 187, 'name': 'hoppip', 'height': 4, 'weight': 5},\n",
       " {'id': 188, 'name': 'skiploom', 'height': 6, 'weight': 10},\n",
       " {'id': 189, 'name': 'jumpluff', 'height': 8, 'weight': 30},\n",
       " {'id': 193, 'name': 'yanma', 'height': 12, 'weight': 380},\n",
       " {'id': 198, 'name': 'murkrow', 'height': 5, 'weight': 21},\n",
       " {'id': 207, 'name': 'gligar', 'height': 11, 'weight': 648},\n",
       " {'id': 225, 'name': 'delibird', 'height': 9, 'weight': 160},\n",
       " {'id': 226, 'name': 'mantine', 'height': 21, 'weight': 2200},\n",
       " {'id': 227, 'name': 'skarmory', 'height': 17, 'weight': 505},\n",
       " {'id': 249, 'name': 'lugia', 'height': 52, 'weight': 2160},\n",
       " {'id': 250, 'name': 'ho-oh', 'height': 38, 'weight': 1990},\n",
       " {'id': 267, 'name': 'beautifly', 'height': 10, 'weight': 284},\n",
       " {'id': 276, 'name': 'taillow', 'height': 3, 'weight': 23},\n",
       " {'id': 277, 'name': 'swellow', 'height': 7, 'weight': 198},\n",
       " {'id': 278, 'name': 'wingull', 'height': 6, 'weight': 95},\n",
       " {'id': 279, 'name': 'pelipper', 'height': 12, 'weight': 280},\n",
       " {'id': 284, 'name': 'masquerain', 'height': 8, 'weight': 36},\n",
       " {'id': 291, 'name': 'ninjask', 'height': 8, 'weight': 120},\n",
       " {'id': 333, 'name': 'swablu', 'height': 4, 'weight': 12},\n",
       " {'id': 334, 'name': 'altaria', 'height': 11, 'weight': 206},\n",
       " {'id': 357, 'name': 'tropius', 'height': 20, 'weight': 1000},\n",
       " {'id': 373, 'name': 'salamence', 'height': 15, 'weight': 1026},\n",
       " {'id': 384, 'name': 'rayquaza', 'height': 70, 'weight': 2065}]"
      ]
     },
     "execution_count": 4,
     "metadata": {},
     "output_type": "execute_result"
    }
   ],
   "source": [
    "api_url = 'https://pokeapi.co/api/v2/type/3'\n",
    "\n",
    "first_50_pokemons = fetch_first_50_pokemons(api_url)\n",
    "first_50_pokemons"
   ]
  },
  {
   "cell_type": "code",
   "execution_count": 5,
   "metadata": {},
   "outputs": [],
   "source": [
    "pokemons_df = pd.DataFrame(first_50_pokemons)\n",
    "filepath = 'pokemons.csv'\n",
    "pokemons_df.to_csv(filepath, index=False)"
   ]
  }
 ],
 "metadata": {
  "kernelspec": {
   "display_name": "Python 3",
   "language": "python",
   "name": "python3"
  },
  "language_info": {
   "codemirror_mode": {
    "name": "ipython",
    "version": 3
   },
   "file_extension": ".py",
   "mimetype": "text/x-python",
   "name": "python",
   "nbconvert_exporter": "python",
   "pygments_lexer": "ipython3",
   "version": "3.11.4"
  }
 },
 "nbformat": 4,
 "nbformat_minor": 2
}
