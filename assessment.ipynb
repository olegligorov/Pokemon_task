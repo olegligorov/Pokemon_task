{
 "cells": [
  {
   "cell_type": "code",
   "execution_count": 1,
   "metadata": {},
   "outputs": [],
   "source": [
    "import requests\n",
    "import pandas as pd\n",
    "import apache_beam as beam"
   ]
  },
  {
   "cell_type": "code",
   "execution_count": 2,
   "metadata": {},
   "outputs": [],
   "source": [
    "def fetch_data(url):\n",
    "    try:\n",
    "        response = requests.get(url)\n",
    "        if response.status_code == 200:\n",
    "            return response.json()\n",
    "        else:\n",
    "            print(f'Error {response.status_code}')\n",
    "            return None\n",
    "    except requests.exceptions.RequestException as e:\n",
    "        print(f'Error {e}')\n",
    "        return None"
   ]
  },
  {
   "cell_type": "code",
   "execution_count": 3,
   "metadata": {},
   "outputs": [],
   "source": [
    "def fetch_first_50_pokemons(url):\n",
    "    fetched_data = fetch_data(url)\n",
    "    first_50_fetched_pokemons = fetched_data['pokemon'][:50]\n",
    "    first_50_pokemon_urls = [pokemon['pokemon']['url'] for pokemon in first_50_fetched_pokemons]\n",
    "    \n",
    "    first_50_pokemons = []\n",
    "\n",
    "    for pokemon_url in first_50_pokemon_urls:\n",
    "        pokemon_data = fetch_data(pokemon_url)\n",
    "        first_50_pokemons.append({\n",
    "            'id': pokemon_data['id'],\n",
    "            'name': pokemon_data['name'],\n",
    "            'height': pokemon_data['height'],\n",
    "            'weight': pokemon_data['weight']\n",
    "        })\n",
    "\n",
    "    return first_50_pokemons"
   ]
  },
  {
   "cell_type": "code",
   "execution_count": 4,
   "metadata": {},
   "outputs": [
    {
     "data": {
      "text/plain": [
       "[{'id': 6, 'name': 'charizard', 'height': 17, 'weight': 905},\n",
       " {'id': 12, 'name': 'butterfree', 'height': 11, 'weight': 320},\n",
       " {'id': 16, 'name': 'pidgey', 'height': 3, 'weight': 18},\n",
       " {'id': 17, 'name': 'pidgeotto', 'height': 11, 'weight': 300},\n",
       " {'id': 18, 'name': 'pidgeot', 'height': 15, 'weight': 395},\n",
       " {'id': 21, 'name': 'spearow', 'height': 3, 'weight': 20},\n",
       " {'id': 22, 'name': 'fearow', 'height': 12, 'weight': 380},\n",
       " {'id': 41, 'name': 'zubat', 'height': 8, 'weight': 75},\n",
       " {'id': 42, 'name': 'golbat', 'height': 16, 'weight': 550},\n",
       " {'id': 83, 'name': 'farfetchd', 'height': 8, 'weight': 150},\n",
       " {'id': 84, 'name': 'doduo', 'height': 14, 'weight': 392},\n",
       " {'id': 85, 'name': 'dodrio', 'height': 18, 'weight': 852},\n",
       " {'id': 123, 'name': 'scyther', 'height': 15, 'weight': 560},\n",
       " {'id': 130, 'name': 'gyarados', 'height': 65, 'weight': 2350},\n",
       " {'id': 142, 'name': 'aerodactyl', 'height': 18, 'weight': 590},\n",
       " {'id': 144, 'name': 'articuno', 'height': 17, 'weight': 554},\n",
       " {'id': 145, 'name': 'zapdos', 'height': 16, 'weight': 526},\n",
       " {'id': 146, 'name': 'moltres', 'height': 20, 'weight': 600},\n",
       " {'id': 149, 'name': 'dragonite', 'height': 22, 'weight': 2100},\n",
       " {'id': 163, 'name': 'hoothoot', 'height': 7, 'weight': 212},\n",
       " {'id': 164, 'name': 'noctowl', 'height': 16, 'weight': 408},\n",
       " {'id': 165, 'name': 'ledyba', 'height': 10, 'weight': 108},\n",
       " {'id': 166, 'name': 'ledian', 'height': 14, 'weight': 356},\n",
       " {'id': 169, 'name': 'crobat', 'height': 18, 'weight': 750},\n",
       " {'id': 176, 'name': 'togetic', 'height': 6, 'weight': 32},\n",
       " {'id': 177, 'name': 'natu', 'height': 2, 'weight': 20},\n",
       " {'id': 178, 'name': 'xatu', 'height': 15, 'weight': 150},\n",
       " {'id': 187, 'name': 'hoppip', 'height': 4, 'weight': 5},\n",
       " {'id': 188, 'name': 'skiploom', 'height': 6, 'weight': 10},\n",
       " {'id': 189, 'name': 'jumpluff', 'height': 8, 'weight': 30},\n",
       " {'id': 193, 'name': 'yanma', 'height': 12, 'weight': 380},\n",
       " {'id': 198, 'name': 'murkrow', 'height': 5, 'weight': 21},\n",
       " {'id': 207, 'name': 'gligar', 'height': 11, 'weight': 648},\n",
       " {'id': 225, 'name': 'delibird', 'height': 9, 'weight': 160},\n",
       " {'id': 226, 'name': 'mantine', 'height': 21, 'weight': 2200},\n",
       " {'id': 227, 'name': 'skarmory', 'height': 17, 'weight': 505},\n",
       " {'id': 249, 'name': 'lugia', 'height': 52, 'weight': 2160},\n",
       " {'id': 250, 'name': 'ho-oh', 'height': 38, 'weight': 1990},\n",
       " {'id': 267, 'name': 'beautifly', 'height': 10, 'weight': 284},\n",
       " {'id': 276, 'name': 'taillow', 'height': 3, 'weight': 23},\n",
       " {'id': 277, 'name': 'swellow', 'height': 7, 'weight': 198},\n",
       " {'id': 278, 'name': 'wingull', 'height': 6, 'weight': 95},\n",
       " {'id': 279, 'name': 'pelipper', 'height': 12, 'weight': 280},\n",
       " {'id': 284, 'name': 'masquerain', 'height': 8, 'weight': 36},\n",
       " {'id': 291, 'name': 'ninjask', 'height': 8, 'weight': 120},\n",
       " {'id': 333, 'name': 'swablu', 'height': 4, 'weight': 12},\n",
       " {'id': 334, 'name': 'altaria', 'height': 11, 'weight': 206},\n",
       " {'id': 357, 'name': 'tropius', 'height': 20, 'weight': 1000},\n",
       " {'id': 373, 'name': 'salamence', 'height': 15, 'weight': 1026},\n",
       " {'id': 384, 'name': 'rayquaza', 'height': 70, 'weight': 2065}]"
      ]
     },
     "execution_count": 4,
     "metadata": {},
     "output_type": "execute_result"
    }
   ],
   "source": [
    "api_url = 'https://pokeapi.co/api/v2/type/3'\n",
    "\n",
    "first_50_pokemons = fetch_first_50_pokemons(api_url)\n",
    "first_50_pokemons"
   ]
  },
  {
   "cell_type": "code",
   "execution_count": 5,
   "metadata": {},
   "outputs": [],
   "source": [
    "pokemons_df = pd.DataFrame(first_50_pokemons)\n",
    "filepath = 'pokemons.csv'\n",
    "pokemons_df.to_csv(filepath, index=False)"
   ]
  },
  {
   "cell_type": "code",
   "execution_count": 6,
   "metadata": {},
   "outputs": [],
   "source": [
    "class ConvertUnits(beam.DoFn):\n",
    "    def process(self, element):\n",
    "        # Convert height from inches to metres\n",
    "        element['height'] = element['height'] * 0.0254\n",
    "        # Convert weight from lbs to kgs\n",
    "        element['weight'] = element['weight'] * 0.453592\n",
    "        yield element\n",
    "\n",
    "class CalculateBMI(beam.DoFn):\n",
    "    def process(self, element):\n",
    "        # Calculate BMI\n",
    "        bmi = element['weight'] / (element['height'] ** 2)\n",
    "        # Round BMI to two decimal places\n",
    "        element['bmi'] = round(bmi, 2)\n",
    "        yield element"
   ]
  },
  {
   "cell_type": "code",
   "execution_count": 7,
   "metadata": {},
   "outputs": [
    {
     "name": "stderr",
     "output_type": "stream",
     "text": [
      "WARNING:apache_beam.runners.interactive.interactive_environment:Dependencies required for Interactive Beam PCollection visualization are not available, please use: `pip install apache-beam[interactive]` to install necessary dependencies to enable all data visualization features.\n"
     ]
    },
    {
     "data": {
      "application/javascript": "\n        if (typeof window.interactive_beam_jquery == 'undefined') {\n          var jqueryScript = document.createElement('script');\n          jqueryScript.src = 'https://code.jquery.com/jquery-3.4.1.slim.min.js';\n          jqueryScript.type = 'text/javascript';\n          jqueryScript.onload = function() {\n            var datatableScript = document.createElement('script');\n            datatableScript.src = 'https://cdn.datatables.net/1.10.20/js/jquery.dataTables.min.js';\n            datatableScript.type = 'text/javascript';\n            datatableScript.onload = function() {\n              window.interactive_beam_jquery = jQuery.noConflict(true);\n              window.interactive_beam_jquery(document).ready(function($){\n                \n              });\n            }\n            document.head.appendChild(datatableScript);\n          };\n          document.head.appendChild(jqueryScript);\n        } else {\n          window.interactive_beam_jquery(document).ready(function($){\n            \n          });\n        }"
     },
     "metadata": {},
     "output_type": "display_data"
    },
    {
     "name": "stdout",
     "output_type": "stream",
     "text": [
      "[{'id': 130, 'name': 'gyarados', 'height': 1.651, 'weight': 1065.9412, 'bmi': 391.06}, {'id': 144, 'name': 'articuno', 'height': 0.43179999999999996, 'weight': 251.289968, 'bmi': 1347.75}, {'id': 165, 'name': 'ledyba', 'height': 0.254, 'weight': 48.987936, 'bmi': 759.31}, {'id': 164, 'name': 'noctowl', 'height': 0.4064, 'weight': 185.065536, 'bmi': 1120.52}, {'id': 226, 'name': 'mantine', 'height': 0.5334, 'weight': 997.9024, 'bmi': 3507.37}, {'id': 6, 'name': 'charizard', 'height': 0.43179999999999996, 'weight': 410.50076, 'bmi': 2201.65}, {'id': 146, 'name': 'moltres', 'height': 0.508, 'weight': 272.1552, 'bmi': 1054.6}, {'id': 142, 'name': 'aerodactyl', 'height': 0.4572, 'weight': 267.61928, 'bmi': 1280.28}, {'id': 149, 'name': 'dragonite', 'height': 0.5588, 'weight': 952.5432, 'bmi': 3050.51}, {'id': 189, 'name': 'jumpluff', 'height': 0.2032, 'weight': 13.607759999999999, 'bmi': 329.56}, {'id': 17, 'name': 'pidgeotto', 'height': 0.2794, 'weight': 136.0776, 'bmi': 1743.15}, {'id': 187, 'name': 'hoppip', 'height': 0.1016, 'weight': 2.26796, 'bmi': 219.71}, {'id': 357, 'name': 'tropius', 'height': 0.508, 'weight': 453.592, 'bmi': 1757.67}, {'id': 333, 'name': 'swablu', 'height': 0.1016, 'weight': 5.443104, 'bmi': 527.3}, {'id': 177, 'name': 'natu', 'height': 0.0508, 'weight': 9.07184, 'bmi': 3515.35}, {'id': 291, 'name': 'ninjask', 'height': 0.2032, 'weight': 54.431039999999996, 'bmi': 1318.25}, {'id': 249, 'name': 'lugia', 'height': 1.3208, 'weight': 979.75872, 'bmi': 561.62}, {'id': 163, 'name': 'hoothoot', 'height': 0.17779999999999999, 'weight': 96.161504, 'bmi': 3041.85}, {'id': 267, 'name': 'beautifly', 'height': 0.254, 'weight': 128.820128, 'bmi': 1996.72}, {'id': 85, 'name': 'dodrio', 'height': 0.4572, 'weight': 386.460384, 'bmi': 1848.81}, {'id': 198, 'name': 'murkrow', 'height': 0.127, 'weight': 9.525432, 'bmi': 590.58}, {'id': 178, 'name': 'xatu', 'height': 0.381, 'weight': 68.0388, 'bmi': 468.71}, {'id': 278, 'name': 'wingull', 'height': 0.15239999999999998, 'weight': 43.09124, 'bmi': 1855.32}, {'id': 277, 'name': 'swellow', 'height': 0.17779999999999999, 'weight': 89.811216, 'bmi': 2840.97}, {'id': 250, 'name': 'ho-oh', 'height': 0.9652, 'weight': 902.6480799999999, 'bmi': 968.91}, {'id': 334, 'name': 'altaria', 'height': 0.2794, 'weight': 93.439952, 'bmi': 1196.96}, {'id': 169, 'name': 'crobat', 'height': 0.4572, 'weight': 340.194, 'bmi': 1627.47}, {'id': 41, 'name': 'zubat', 'height': 0.2032, 'weight': 34.0194, 'bmi': 823.91}, {'id': 21, 'name': 'spearow', 'height': 0.07619999999999999, 'weight': 9.07184, 'bmi': 1562.38}, {'id': 166, 'name': 'ledian', 'height': 0.35559999999999997, 'weight': 161.478752, 'bmi': 1277.0}, {'id': 42, 'name': 'golbat', 'height': 0.4064, 'weight': 249.4756, 'bmi': 1510.5}, {'id': 12, 'name': 'butterfree', 'height': 0.2794, 'weight': 145.14944, 'bmi': 1859.36}, {'id': 225, 'name': 'delibird', 'height': 0.2286, 'weight': 72.57472, 'bmi': 1388.78}, {'id': 284, 'name': 'masquerain', 'height': 0.2032, 'weight': 16.329312, 'bmi': 395.48}, {'id': 84, 'name': 'doduo', 'height': 0.35559999999999997, 'weight': 177.808064, 'bmi': 1406.14}, {'id': 22, 'name': 'fearow', 'height': 0.30479999999999996, 'weight': 172.36496, 'bmi': 1855.32}, {'id': 188, 'name': 'skiploom', 'height': 0.15239999999999998, 'weight': 4.53592, 'bmi': 195.3}, {'id': 279, 'name': 'pelipper', 'height': 0.30479999999999996, 'weight': 127.00576, 'bmi': 1367.08}, {'id': 384, 'name': 'rayquaza', 'height': 1.778, 'weight': 936.66748, 'bmi': 296.29}, {'id': 123, 'name': 'scyther', 'height': 0.381, 'weight': 254.01152, 'bmi': 1749.86}, {'id': 145, 'name': 'zapdos', 'height': 0.4064, 'weight': 238.589392, 'bmi': 1444.59}, {'id': 83, 'name': 'farfetchd', 'height': 0.2032, 'weight': 68.0388, 'bmi': 1647.82}, {'id': 176, 'name': 'togetic', 'height': 0.15239999999999998, 'weight': 14.514944, 'bmi': 624.95}, {'id': 373, 'name': 'salamence', 'height': 0.381, 'weight': 465.38539199999997, 'bmi': 3205.99}, {'id': 193, 'name': 'yanma', 'height': 0.30479999999999996, 'weight': 172.36496, 'bmi': 1855.32}, {'id': 18, 'name': 'pidgeot', 'height': 0.381, 'weight': 179.16884, 'bmi': 1234.28}, {'id': 227, 'name': 'skarmory', 'height': 0.43179999999999996, 'weight': 229.06396, 'bmi': 1228.55}, {'id': 276, 'name': 'taillow', 'height': 0.07619999999999999, 'weight': 10.432616, 'bmi': 1796.73}, {'id': 207, 'name': 'gligar', 'height': 0.2794, 'weight': 293.927616, 'bmi': 3765.2}, {'id': 16, 'name': 'pidgey', 'height': 0.07619999999999999, 'weight': 8.164656, 'bmi': 1406.14}]\n"
     ]
    }
   ],
   "source": [
    "# Create a pipeline using Apache Beam\n",
    "with beam.Pipeline() as pipeline:\n",
    "    transformed_data = (\n",
    "        pipeline\n",
    "        | 'Create Pokemon Collections' >> beam.Create(first_50_pokemons)\n",
    "        | 'Convert Units' >> beam.ParDo(ConvertUnits())\n",
    "        | 'Calculate BMI' >> beam.ParDo(CalculateBMI())\n",
    "    )\n",
    "\n",
    "    # get the first 50 rows\n",
    "    first_50_rows = transformed_data | beam.combiners.Sample.FixedSizeGlobally(50)\n",
    "\n",
    "    first_50_rows | 'Print Output' >> beam.Map(print)"
   ]
  }
 ],
 "metadata": {
  "kernelspec": {
   "display_name": "Python 3",
   "language": "python",
   "name": "python3"
  },
  "language_info": {
   "codemirror_mode": {
    "name": "ipython",
    "version": 3
   },
   "file_extension": ".py",
   "mimetype": "text/x-python",
   "name": "python",
   "nbconvert_exporter": "python",
   "pygments_lexer": "ipython3",
   "version": "3.11.4"
  }
 },
 "nbformat": 4,
 "nbformat_minor": 2
}
